{
  "nbformat": 4,
  "nbformat_minor": 0,
  "metadata": {
    "colab": {
      "provenance": []
    },
    "kernelspec": {
      "name": "python3",
      "display_name": "Python 3"
    },
    "language_info": {
      "name": "python"
    }
  },
  "cells": [
    {
      "cell_type": "markdown",
      "source": [
        "# Data Science Tools and Ecosystem\n"
      ],
      "metadata": {
        "id": "beN6sHRkhDwj"
      }
    },
    {
      "cell_type": "markdown",
      "source": [
        "In this notebook, Data Science Tools and Ecosystem are summarized."
      ],
      "metadata": {
        "id": "3Y8kp1CchVRi"
      }
    },
    {
      "cell_type": "markdown",
      "source": [
        "# Objectives\n",
        "\n",
        "List Popular languages used in Data Science\n",
        "\n",
        "1.   Describe Popular Tools for Data Science\n",
        "2.   List available libraries for Data Science\n",
        "3.   Use few popular Data Science Languages\n"
      ],
      "metadata": {
        "id": "8ZW7lesdjoNU"
      }
    },
    {
      "cell_type": "markdown",
      "source": [
        "# Author\n",
        "\n",
        "Mustahsan Hammad Naqvi"
      ],
      "metadata": {
        "id": "SwmDLg2TkLKC"
      }
    },
    {
      "cell_type": "markdown",
      "source": [
        "Some of the popular languages that Data Scientists use are:\n",
        "\n",
        "\n",
        "1.   Python\n",
        "2.   R\n",
        "3.   Scala\n",
        "\n"
      ],
      "metadata": {
        "id": "0KzxP_mUhXzb"
      }
    },
    {
      "cell_type": "markdown",
      "source": [
        "Some of the commonly used libraries used by Data Scientists include:\n",
        "\n",
        "1.   Scikit-learn\n",
        "2.   Pandas\n",
        "3.   Numpy\n",
        "4.   Matplotlib\n",
        "\n"
      ],
      "metadata": {
        "id": "lBX-zi0Dh-O-"
      }
    },
    {
      "cell_type": "markdown",
      "source": [
        " Data Science Tools\n",
        "\n",
        "1.   TensorFlow\n",
        "2.   R Studio\n",
        "3.   Apache Spark\n",
        "\n"
      ],
      "metadata": {
        "id": "otfgXvRpiVXt"
      }
    },
    {
      "cell_type": "markdown",
      "source": [
        "# Below are a few examples of evaluating arithmetic expressions in Python"
      ],
      "metadata": {
        "id": "i5da00_Ai8BF"
      }
    },
    {
      "cell_type": "code",
      "source": [
        "print((3*4)+5)  # This a simple arithmetic expression to mutiply then add integers\n"
      ],
      "metadata": {
        "colab": {
          "base_uri": "https://localhost:8080/"
        },
        "id": "2Y8Ho91eh0QQ",
        "outputId": "28a3698b-3903-4d35-a399-c89cbc985fce"
      },
      "execution_count": 1,
      "outputs": [
        {
          "output_type": "stream",
          "name": "stdout",
          "text": [
            "17\n"
          ]
        }
      ]
    },
    {
      "cell_type": "code",
      "source": [
        "# Convert 200 minutes into hours\n",
        "\n",
        "print(200/60)"
      ],
      "metadata": {
        "colab": {
          "base_uri": "https://localhost:8080/"
        },
        "id": "epipngG6i7gd",
        "outputId": "c5998931-3166-4530-8632-5f6d5e0fa954"
      },
      "execution_count": 2,
      "outputs": [
        {
          "output_type": "stream",
          "name": "stdout",
          "text": [
            "3.3333333333333335\n"
          ]
        }
      ]
    }
  ]
}